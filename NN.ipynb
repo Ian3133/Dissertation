{
 "cells": [
  {
   "cell_type": "code",
   "execution_count": 2,
   "id": "e7eef222",
   "metadata": {},
   "outputs": [],
   "source": [
    "# will create NN to get weight we can then copy other to the SNN small demo"
   ]
  },
  {
   "cell_type": "code",
   "execution_count": 3,
   "id": "f604ef77",
   "metadata": {},
   "outputs": [
    {
     "name": "stdout",
     "output_type": "stream",
     "text": [
      "Test Accuracy: 0.9000\n",
      "Layer 0 weights shape: (4, 10)\n",
      "Layer 1 weights shape: (10,)\n",
      "Layer 2 weights shape: (10, 3)\n",
      "Layer 3 weights shape: (3,)\n"
     ]
    }
   ],
   "source": [
    "import numpy as np\n",
    "import tensorflow as tf\n",
    "from sklearn.datasets import load_iris\n",
    "from sklearn.model_selection import train_test_split\n",
    "from sklearn.preprocessing import MinMaxScaler\n",
    "from tensorflow.keras.layers import Dense, Input\n",
    "from tensorflow.keras.models import Model\n",
    "from tensorflow.keras.utils import to_categorical\n",
    "\n",
    "# --- Load and prepare data ---\n",
    "iris = load_iris()\n",
    "X = iris['data']\n",
    "y = iris['target']\n",
    "\n",
    "# Normalize input to [0, 1]\n",
    "scaler = MinMaxScaler()\n",
    "X = scaler.fit_transform(X)\n",
    "\n",
    "# One-hot encode output\n",
    "y_cat = to_categorical(y)\n",
    "\n",
    "# Train/test split\n",
    "X_train, X_test, y_train, y_test = train_test_split(X, y_cat, test_size=0.2, random_state=42)\n",
    "\n",
    "# --- Custom activation function ---\n",
    "def directional_push_activation(w=2.0):\n",
    "    def activation(x):\n",
    "        # Clip to avoid divide-by-zero\n",
    "        x = tf.clip_by_value(x, 1e-6, 1.0 - 1e-6)\n",
    "        return 1 / (1 + tf.pow((1 - x) / x, tf.exp(w / 3)))\n",
    "    return activation\n",
    "\n",
    "# Choose your activation weight\n",
    "activation_weight = 2.0\n",
    "\n",
    "# --- Build model ---\n",
    "inputs = Input(shape=(4,))\n",
    "x = Dense(10, activation=directional_push_activation(activation_weight))(inputs)\n",
    "outputs = Dense(3, activation='softmax')(x)\n",
    "\n",
    "model = Model(inputs, outputs)\n",
    "model.compile(optimizer='adam', loss='categorical_crossentropy', metrics=['accuracy'])\n",
    "\n",
    "# --- Train model ---\n",
    "model.fit(X_train, y_train, epochs=50, batch_size=5, verbose=0)\n",
    "\n",
    "# --- Evaluate ---\n",
    "loss, acc = model.evaluate(X_test, y_test, verbose=0)\n",
    "print(f\"Test Accuracy: {acc:.4f}\")\n",
    "\n",
    "# --- Copy weights ---\n",
    "weights = model.get_weights()\n",
    "\n",
    "# If you want to use them elsewhere:\n",
    "# model.set_weights(weights_copy)\n",
    "\n",
    "# Optional: print layer weights\n",
    "for i, w in enumerate(weights):\n",
    "    print(f\"Layer {i} weights shape: {w.shape}\")\n"
   ]
  },
  {
   "cell_type": "code",
   "execution_count": 4,
   "id": "99437544",
   "metadata": {},
   "outputs": [
    {
     "name": "stdout",
     "output_type": "stream",
     "text": [
      "\u001b[1m1/1\u001b[0m \u001b[32m━━━━━━━━━━━━━━━━━━━━\u001b[0m\u001b[37m\u001b[0m \u001b[1m0s\u001b[0m 36ms/step\n",
      "Predicted probabilities: [[0.94778425 0.03397965 0.01823603]]\n",
      "Predicted class: 0\n"
     ]
    }
   ],
   "source": [
    "\n",
    "my_input = np.array([[5.1, 3.5, 1.4, 0.2]])  # sepal length, sepal width, petal length, petal width\n",
    "\n",
    "# need to standardize the inputs to between 0 and 1.0 ^ \n",
    "\n",
    "\n",
    "# Scale it using the same scaler\n",
    "my_input_scaled = scaler.transform(my_input)\n",
    "\n",
    "# Predict\n",
    "prediction = model.predict(my_input_scaled)\n",
    "predicted_class = np.argmax(prediction)\n",
    "\n",
    "print(f\"Predicted probabilities: {prediction}\")\n",
    "print(f\"Predicted class: {predicted_class}\")\n"
   ]
  },
  {
   "cell_type": "code",
   "execution_count": 5,
   "id": "93b656e2",
   "metadata": {},
   "outputs": [
    {
     "name": "stdout",
     "output_type": "stream",
     "text": [
      "[array([[ 0.1135968 ,  0.18025309,  0.10094303, -0.5609372 , -0.19758941,\n",
      "        -0.20204231, -0.3657724 ,  0.02413964, -0.6838493 ,  0.13974035],\n",
      "       [-0.4299119 ,  0.6738531 ,  0.9506301 , -0.18848935,  0.14345719,\n",
      "        -0.48180234,  0.00865681,  0.01765617,  0.17112266, -0.08891857],\n",
      "       [-0.09449631, -0.8266945 , -1.235361  ,  0.14157972,  0.51368946,\n",
      "         0.321979  , -0.1708726 ,  0.07350195, -0.24007349, -0.5640322 ],\n",
      "       [-0.08869338, -0.745832  , -0.36420307,  0.36688203,  0.85630447,\n",
      "        -0.5828457 , -0.5360476 ,  0.82350487, -0.12507023, -0.4661583 ]],\n",
      "      dtype=float32), array([ 0.        ,  0.5621115 ,  0.49492553, -0.12487811, -0.01794191,\n",
      "        0.        , -0.00530157, -0.11453775, -0.06169549,  0.        ],\n",
      "      dtype=float32), array([[ 0.47116745, -0.64527065, -0.49626732],\n",
      "       [ 0.7116071 , -1.1385437 , -1.088651  ],\n",
      "       [ 0.43341887, -1.4892002 , -1.3539809 ],\n",
      "       [ 0.28178445,  0.152175  , -0.54456943],\n",
      "       [-1.5054257 ,  0.12284008,  0.49124786],\n",
      "       [-0.41317764,  0.5724888 ,  0.4868003 ],\n",
      "       [ 0.38319886,  0.31672755,  0.5698485 ],\n",
      "       [-0.7893439 , -0.4332046 ,  1.1470755 ],\n",
      "       [-0.619324  , -0.6091148 , -0.2407385 ],\n",
      "       [-0.02582   , -0.17720485,  0.3123896 ]], dtype=float32), array([-0.01638766,  0.39673412, -0.4153284 ], dtype=float32)]\n",
      "[0.16666667 0.41666667 0.06779661 0.04166667]\n"
     ]
    }
   ],
   "source": [
    "print(weights)\n",
    "\n",
    "print(X[1])"
   ]
  }
 ],
 "metadata": {
  "kernelspec": {
   "display_name": "Python 3",
   "language": "python",
   "name": "python3"
  },
  "language_info": {
   "codemirror_mode": {
    "name": "ipython",
    "version": 3
   },
   "file_extension": ".py",
   "mimetype": "text/x-python",
   "name": "python",
   "nbconvert_exporter": "python",
   "pygments_lexer": "ipython3",
   "version": "3.11.9"
  }
 },
 "nbformat": 4,
 "nbformat_minor": 5
}
