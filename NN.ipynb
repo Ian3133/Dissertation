{
 "cells": [
  {
   "cell_type": "code",
   "execution_count": null,
   "id": "e7eef222",
   "metadata": {},
   "outputs": [],
   "source": [
    "# will create NN to get weight we can then copy other to the SNN small demo"
   ]
  },
  {
   "cell_type": "code",
   "execution_count": 2,
   "id": "f604ef77",
   "metadata": {},
   "outputs": [
    {
     "name": "stdout",
     "output_type": "stream",
     "text": [
      "Test Accuracy: 0.9667\n",
      "Layer 0 weights shape: (4, 10)\n",
      "Layer 1 weights shape: (10,)\n",
      "Layer 2 weights shape: (10, 3)\n",
      "Layer 3 weights shape: (3,)\n"
     ]
    }
   ],
   "source": [
    "import numpy as np\n",
    "import tensorflow as tf\n",
    "from sklearn.datasets import load_iris\n",
    "from sklearn.model_selection import train_test_split\n",
    "from sklearn.preprocessing import MinMaxScaler\n",
    "from tensorflow.keras.layers import Dense, Input\n",
    "from tensorflow.keras.models import Model\n",
    "from tensorflow.keras.utils import to_categorical\n",
    "\n",
    "# --- Load and prepare data ---\n",
    "iris = load_iris()\n",
    "X = iris['data']\n",
    "y = iris['target']\n",
    "\n",
    "# Normalize input to [0, 1]\n",
    "scaler = MinMaxScaler()\n",
    "X = scaler.fit_transform(X)\n",
    "\n",
    "# One-hot encode output\n",
    "y_cat = to_categorical(y)\n",
    "\n",
    "# Train/test split\n",
    "X_train, X_test, y_train, y_test = train_test_split(X, y_cat, test_size=0.2, random_state=42)\n",
    "\n",
    "# --- Custom activation function ---\n",
    "def directional_push_activation(w=2.0):\n",
    "    def activation(x):\n",
    "        # Clip to avoid divide-by-zero\n",
    "        x = tf.clip_by_value(x, 1e-6, 1.0 - 1e-6)\n",
    "        return 1 / (1 + tf.pow((1 - x) / x, tf.exp(w / 3)))\n",
    "    return activation\n",
    "\n",
    "# Choose your activation weight\n",
    "activation_weight = 2.0\n",
    "\n",
    "# --- Build model ---\n",
    "inputs = Input(shape=(4,))\n",
    "x = Dense(10, activation=directional_push_activation(activation_weight))(inputs)\n",
    "outputs = Dense(3, activation='softmax')(x)\n",
    "\n",
    "model = Model(inputs, outputs)\n",
    "model.compile(optimizer='adam', loss='categorical_crossentropy', metrics=['accuracy'])\n",
    "\n",
    "# --- Train model ---\n",
    "model.fit(X_train, y_train, epochs=50, batch_size=5, verbose=0)\n",
    "\n",
    "# --- Evaluate ---\n",
    "loss, acc = model.evaluate(X_test, y_test, verbose=0)\n",
    "print(f\"Test Accuracy: {acc:.4f}\")\n",
    "\n",
    "# --- Copy weights ---\n",
    "weights = model.get_weights()\n",
    "\n",
    "# If you want to use them elsewhere:\n",
    "# model.set_weights(weights_copy)\n",
    "\n",
    "# Optional: print layer weights\n",
    "for i, w in enumerate(weights):\n",
    "    print(f\"Layer {i} weights shape: {w.shape}\")\n"
   ]
  },
  {
   "cell_type": "code",
   "execution_count": null,
   "id": "99437544",
   "metadata": {},
   "outputs": [
    {
     "name": "stdout",
     "output_type": "stream",
     "text": [
      "\u001b[1m1/1\u001b[0m \u001b[32m━━━━━━━━━━━━━━━━━━━━\u001b[0m\u001b[37m\u001b[0m \u001b[1m0s\u001b[0m 29ms/step\n",
      "Predicted probabilities: [[0.6536397  0.25813422 0.08822606]]\n",
      "Predicted class: 0\n"
     ]
    }
   ],
   "source": [
    "\n",
    "my_input = np.array([[5.1, 3.5, 1.4, 0.2]])  # sepal length, sepal width, petal length, petal width\n",
    "\n",
    "# need to standardize the inputs to between 0 and 1.0 ^ \n",
    "\n",
    "\n",
    "# Scale it using the same scaler\n",
    "my_input_scaled = scaler.transform(my_input)\n",
    "\n",
    "# Predict\n",
    "prediction = model.predict(my_input_scaled)\n",
    "predicted_class = np.argmax(prediction)\n",
    "\n",
    "print(f\"Predicted probabilities: {prediction}\")\n",
    "print(f\"Predicted class: {predicted_class}\")\n"
   ]
  },
  {
   "cell_type": "code",
   "execution_count": 2,
   "id": "93b656e2",
   "metadata": {},
   "outputs": [
    {
     "name": "stdout",
     "output_type": "stream",
     "text": [
      "[array([[-0.30175677,  0.32245865, -0.4986203 ,  0.51874804,  0.7390744 ,\n",
      "         0.84078616, -0.5497139 ,  0.12482596,  0.3937063 ,  0.18559742],\n",
      "       [-0.51538515, -0.4123389 , -0.13548255, -0.66131175, -0.20388526,\n",
      "         0.05857472, -0.47443748,  0.8218865 , -0.50879365, -0.5484046 ],\n",
      "       [-0.6199794 ,  0.01200231,  0.5797131 ,  0.87162036,  0.76552474,\n",
      "         0.8057634 , -0.061759  , -0.24822311,  0.53538615, -0.02949882],\n",
      "       [-0.6475095 , -0.24158555, -0.47470486,  0.5815514 , -0.26259357,\n",
      "         0.1167264 , -0.15303928,  0.05249047,  0.53752863, -0.61277384]],\n",
      "      dtype=float32), array([ 0.        , -0.03341823,  0.        ,  0.22211385, -0.09098917,\n",
      "       -0.12913936,  0.        ,  0.25118777, -0.19716568,  0.        ],\n",
      "      dtype=float32), array([[ 0.42264903,  0.08506948, -0.01422855],\n",
      "       [ 0.4458115 ,  0.10150149,  0.31266794],\n",
      "       [ 0.6353699 ,  0.43023813,  0.28295106],\n",
      "       [-0.9120095 ,  1.0877126 ,  0.5112515 ],\n",
      "       [-0.7805683 , -0.11816338,  0.880249  ],\n",
      "       [-0.69070673,  0.47359243,  0.3094212 ],\n",
      "       [-0.4728681 ,  0.32550204,  0.63427687],\n",
      "       [ 1.0796442 , -0.2761976 ,  0.08841954],\n",
      "       [-1.084489  , -0.66554976,  0.13988665],\n",
      "       [-0.07586533, -0.1444937 ,  0.16072345]], dtype=float32), array([ 0.5344098 , -0.08471149, -0.47951967], dtype=float32)]\n"
     ]
    }
   ],
   "source": [
    "print(weights)"
   ]
  }
 ],
 "metadata": {
  "kernelspec": {
   "display_name": "Python 3",
   "language": "python",
   "name": "python3"
  },
  "language_info": {
   "codemirror_mode": {
    "name": "ipython",
    "version": 3
   },
   "file_extension": ".py",
   "mimetype": "text/x-python",
   "name": "python",
   "nbconvert_exporter": "python",
   "pygments_lexer": "ipython3",
   "version": "3.11.9"
  }
 },
 "nbformat": 4,
 "nbformat_minor": 5
}
