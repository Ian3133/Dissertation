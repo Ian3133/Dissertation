{
 "cells": [
  {
   "cell_type": "code",
   "execution_count": null,
   "id": "e7eef222",
   "metadata": {},
   "outputs": [],
   "source": [
    "# will create NN to get weight we can then copy other to the SNN small demo\n"
   ]
  }
 ],
 "metadata": {
  "kernelspec": {
   "display_name": "Python 3",
   "language": "python",
   "name": "python3"
  },
  "language_info": {
   "name": "python",
   "version": "3.11.9"
  }
 },
 "nbformat": 4,
 "nbformat_minor": 5
}
