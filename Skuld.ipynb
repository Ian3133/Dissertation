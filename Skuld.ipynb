{
 "cells": [
  {
   "cell_type": "code",
   "execution_count": null,
   "id": "e2739fdb",
   "metadata": {},
   "outputs": [
    {
     "name": "stdout",
     "output_type": "stream",
     "text": [
      "0.23182316571450962\n",
      "-0.0015151549496330169 -0.08691101187823634\n",
      "0.373269111739985\n",
      "old w's 0.373269111739985 0.23182316571450962\n",
      "new W's 0.3734206272349483 0.24051426690233324\n"
     ]
    }
   ],
   "source": [
    "# Math section for Skuld model\n",
    "import math\n",
    "import numpy as np\n",
    "# inputs for Skuld model\n",
    "input = 0.3\n",
    "layer_bias = 0.5\n",
    "a1 = 0.5\n",
    "a2 = 0.5\n",
    "b = 0.05 # will represent volage and can be used when multiple to lower and raise importance\n",
    "\n",
    "# weights_function: \\\n",
    "\n",
    "def apply_weight(x, a, b, layers=0):\n",
    "    return math.exp(-((a - x + layers*layer_bias) ** 2) / b)\n",
    "\n",
    "# Foward Pass\n",
    "\n",
    "def forward_pass(input, a1, a2, b):\n",
    "\n",
    "    n1 = apply_weight(input, a1, b, layers=0) + input\n",
    "    n2 = apply_weight(n1, a2, b, layers=1) + n1\n",
    "\n",
    "    return n2, n1\n",
    "\n",
    "# Loss calcualtion\n",
    "\n",
    "def loss_function(output, desired):\n",
    "    # can change but not a requirement yet\n",
    "    return (0.5 * ((output - desired) ** 2))\n",
    "\n",
    "\n",
    "# Grads calculated\n",
    "\n",
    "def d_loss_d_weight_2(n2, n1, desired):\n",
    "    # check the removal of the layer bias fo rthis one and go back to check the others as well\n",
    "    return ((n2 - desired) * (n2-layer_bias) * (1-(n2-layer_bias)) * n1)\n",
    "    \n",
    "n2, n1 = forward_pass(input, a1, a2, b)\n",
    "\n",
    "# print(d_loss_d_weight_2(n2, n1, 1.5))\n",
    "\n",
    "\n",
    "from scipy.integrate import quad\n",
    "import numpy as np\n",
    "\n",
    "def integral_of_exp(x0, x, a, b, layer=0):\n",
    "    \"\"\"\n",
    "    Compute the definite integral:\n",
    "    ∫[x0 to x] exp(-((a - t + 0.5)^2)/b) dt\n",
    "    \"\"\"\n",
    "    result, _ = quad(lambda t: np.exp(-((a - t + (layer_bias * layer))**2) / b), x0, x)\n",
    "    return result\n",
    "\n",
    "\n",
    "\n",
    "def d_loss_d_weight_2(n2, n1, desired):\n",
    "    # check the removal of the layer bias fo rthis one and go back to check the others as well\n",
    "    return ((n2 - desired) * (n2-layer_bias) * (1-(n2-layer_bias)) * n1)\n",
    "    \n",
    "n2, n1 = forward_pass(input, a1, a2, b)\n",
    "\n",
    "grad_w2 =d_loss_d_weight_2(n2, n1, 1.5)\n",
    "\n",
    "def d_loss_d_weight_1(n2, n1, desired, w2, input):\n",
    "    # check the removal of the layer bias fo rthis one and go back to check the others as well\n",
    "    return ((n2 - desired) * (n2-layer_bias) * (1-(n2-layer_bias)) * n1 * w2 * (1- n1) * input)\n",
    "\n",
    "w2 = integral_of_exp(0, n2, a1, b, layer=1)\n",
    "print(w2)\n",
    "\n",
    "grad_w1 = d_loss_d_weight_1(n2, n1, 1.5, w2, input)\n",
    "\n",
    "print(grad_w1, grad_w2)\n",
    "\n",
    "lr = 0.1 \n",
    "\n",
    "w1 = integral_of_exp(0, n1, a2, b, layer=0)\n",
    "print(w1)\n",
    "\n",
    "def new_weight(lr, grad, w):\n",
    "    w -= lr * grad\n",
    "    return w\n",
    "\n",
    "w2_new = new_weight(lr, grad_w2, w2)\n",
    "w1_new = new_weight(lr, grad_w1, w1)\n",
    "print(\"old w's\", w1, w2)\n",
    "print(\"new W's\", w1_new, w2_new)\n",
    "\n",
    "def shift_curve():\n",
    "\n",
    "    \n",
    "\n"
   ]
  },
  {
   "cell_type": "code",
   "execution_count": 91,
   "id": "784138d1",
   "metadata": {},
   "outputs": [
    {
     "data": {
      "text/plain": [
       "0.017380186922928538"
      ]
     },
     "execution_count": 91,
     "metadata": {},
     "output_type": "execute_result"
    }
   ],
   "source": [
    "from scipy.integrate import quad\n",
    "import numpy as np\n",
    "\n",
    "\n",
    "\n",
    "\n",
    "integral_of_exp(0, 0.73, a1, b, layer=1)"
   ]
  }
 ],
 "metadata": {
  "kernelspec": {
   "display_name": "Python 3",
   "language": "python",
   "name": "python3"
  },
  "language_info": {
   "codemirror_mode": {
    "name": "ipython",
    "version": 3
   },
   "file_extension": ".py",
   "mimetype": "text/x-python",
   "name": "python",
   "nbconvert_exporter": "python",
   "pygments_lexer": "ipython3",
   "version": "3.11.9"
  }
 },
 "nbformat": 4,
 "nbformat_minor": 5
}
