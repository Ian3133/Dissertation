{
 "cells": [
  {
   "cell_type": "code",
   "execution_count": 1,
   "id": "7e05bb5e",
   "metadata": {},
   "outputs": [
    {
     "name": "stdout",
     "output_type": "stream",
     "text": [
      "Original: [5.1 3.5 1.4 0.2]\n",
      "Standardized: [0.22277778 0.62475    0.06866102 0.04258333]\n"
     ]
    }
   ],
   "source": [
    "from sklearn.datasets import load_iris\n",
    "import numpy as np\n",
    "\n",
    "# Load the dataset\n",
    "iris = load_iris()\n",
    "X = iris['data']  # shape: (150, 4)\n",
    "y = iris['target']\n",
    "\n",
    "# Standardize features to [0.001, 0.999]\n",
    "X_min = X.min(axis=0)\n",
    "X_max = X.max(axis=0)\n",
    "\n",
    "X_std = (X - X_min) / (X_max - X_min)  # Scales to [0, 1]\n",
    "X_scaled = X_std * (0.999 - 0.001) + 0.001  # Scales to [0.001, 0.999]\n",
    "\n",
    "# Check one sample\n",
    "sample_index = 0\n",
    "print(\"Original:\", X[sample_index])\n",
    "print(\"Standardized:\", X_scaled[sample_index])\n"
   ]
  },
  {
   "cell_type": "code",
   "execution_count": 2,
   "id": "31aae16f",
   "metadata": {},
   "outputs": [
    {
     "name": "stdout",
     "output_type": "stream",
     "text": [
      "Input sample: [7.  3.2 4.7 1.4]\n",
      "Target class: 1\n"
     ]
    }
   ],
   "source": [
    "index = 50  # choose any from 0 to 149\n",
    "input_sample = X[index]     # shape: (4,) — 4 input features\n",
    "output_label = y[index]     # scalar class label: 0, 1, or 2\n",
    "\n",
    "print(\"Input sample:\", input_sample)\n",
    "print(\"Target class:\", output_label)\n",
    "\n",
    "\n",
    "for i in range(len(X)):\n",
    "    inputs = X[i]\n",
    "    label = y[i]\n",
    "    # use inputs and label as needed\n",
    "\n"
   ]
  },
  {
   "cell_type": "code",
   "execution_count": null,
   "id": "50c2c9d8",
   "metadata": {},
   "outputs": [],
   "source": [
    "weight = [.5]"
   ]
  },
  {
   "cell_type": "code",
   "execution_count": null,
   "id": "f0885a13",
   "metadata": {},
   "outputs": [
    {
     "name": "stdout",
     "output_type": "stream",
     "text": [
      "[[ 0.2 -0.3]\n",
      " [ 0.4  0.1]\n",
      " [-0.5  0.2]]\n",
      "[[ 0.20401597 -0.29919681]\n",
      " [ 0.39544781  0.09908956]\n",
      " [-0.49541714  0.20091657]]\n"
     ]
    }
   ],
   "source": [
    "# cost function basics\n",
    "import numpy as np\n",
    "\n",
    "\n",
    "corrected_result = [0.9]\n",
    "\n",
    "# Sigmoid and its derivative\n",
    "def sigmoid(x):\n",
    "    return 1 / (1 + np.exp(-x))\n",
    "\n",
    "def sigmoid_deriv(x):\n",
    "    s = sigmoid(x)\n",
    "    return s * (1 - s)\n",
    "\n",
    "\n",
    "\n",
    "\n",
    "# Inputs\n",
    "x = np.array([0.2])  \n",
    "target = np.array([0.9])  \n",
    "\n",
    "# Weights for 3 output neurons (shape: (3, 2))\n",
    "W = np.array([.5])\n",
    "print(W)\n",
    "\n",
    "# Forward pass\n",
    "# z = W @ x  # shape: (3,)\n",
    "# y = sigmoid(z)\n",
    "# y is just current activation \n",
    "\n",
    "\n",
    "# Compute cost (MSE)\n",
    "cost = np.mean((y - target)**2)\n",
    "\n",
    "# Backward pass: gradient of cost w.r.t. output\n",
    "dCost_dy = 2 * (y - target) / y.size\n",
    "\n",
    "# Gradient of output w.r.t. z (because y = sigmoid(z))\n",
    "dy_dz = sigmoid_deriv(z)\n",
    "\n",
    "# Gradient of cost w.r.t. z\n",
    "dCost_dz = dCost_dy * dy_dz  # shape: (3,)\n",
    "\n",
    "# Gradient of cost w.r.t. weights\n",
    "# We need outer product of dCost_dz (3,) and x (2,)\n",
    "dCost_dW = np.outer(dCost_dz, x)  # shape: (3, 2)\n",
    "\n",
    "# Update weights\n",
    "learning_rate = 0.1\n",
    "W -= learning_rate * dCost_dW\n",
    "\n",
    "print(W)\n"
   ]
  },
  {
   "cell_type": "code",
   "execution_count": 25,
   "id": "e5b85b2a",
   "metadata": {},
   "outputs": [],
   "source": [
    "weight = 0.5"
   ]
  },
  {
   "cell_type": "code",
   "execution_count": 40,
   "id": "869b7444",
   "metadata": {},
   "outputs": [
    {
     "name": "stderr",
     "output_type": "stream",
     "text": [
      "WARNING    Came across an abstract code block that may not be well-defined: the outcome may depend on the order of execution. You can ignore this warning if you are sure that the order of operations does not matter. 3 lines of abstract code, first line is: 'spikes_received += 1 (in-place)'\n",
      " [brian2.codegen.generators.base]\n",
      "WARNING    Came across an abstract code block that may not be well-defined: the outcome may depend on the order of execution. You can ignore this warning if you are sure that the order of operations does not matter. 3 lines of abstract code, first line is: 'spikes_received += 1 (in-place)'\n",
      " [brian2.codegen.generators.base]\n"
     ]
    },
    {
     "data": {
      "image/png": "[encoded data removed]",
      "text/plain": [
       "<Figure size 1000x600 with 1 Axes>"
      ]
     },
     "metadata": {},
     "output_type": "display_data"
    },
    {
     "name": "stdout",
     "output_type": "stream",
     "text": [
      "Neuron 0 spike times: ['0.101 ms']\n",
      "Neuron 1 spike times: ['1.319 ms']\n"
     ]
    }
   ],
   "source": [
    "# Basic example of 2 neurons with weight applied and repeat runs to correct weight in back prop\n",
    "\n",
    "from brian2 import *\n",
    "import numpy as np\n",
    "\n",
    "start_scope()\n",
    "\n",
    "defaultclock.dt = 0.0001*ms  \n",
    "\n",
    "# Custom timing function\n",
    "@implementation('numpy', discard_units=True)\n",
    "@check_units(w=1, global_clock=1, layer=1, result=1, sum=1, spikes_received=1)\n",
    "def spike_timing(w, global_clock, layer, sum, spikes_received): \n",
    "    #print(global_clock)\n",
    "    x = global_clock % 1\n",
    "    if w >= 0:\n",
    "        return (x ** (1 - w)) \n",
    "    else:\n",
    "        return (1 - (1 - x) ** (1 + w)) \n",
    "    \n",
    "@implementation('numpy', discard_units=True)\n",
    "@check_units(layer=1, result=1, sum=1, spikes_received=1)\n",
    "def math1(layer, sum, spikes_received): \n",
    "    return (sum/spikes_received )+ layer\n",
    "\n",
    "\n",
    "n_input = 1\n",
    "n_output = 1\n",
    "n_total = n_input + n_output\n",
    "\n",
    "# Full neuron group\n",
    "neurons = NeuronGroup(n_total, '''\n",
    "    v : 1\n",
    "    sum : 1\n",
    "    spikes_received : 1\n",
    "    scheduled_time : second\n",
    "    global_clock : 1\n",
    "''', threshold='v > 1', reset='v = 0', method='exact')\n",
    "\n",
    "neurons.v = 0\n",
    "neurons.scheduled_time = 1e9 * second\n",
    "neurons.global_clock = 0.0\n",
    "neurons.sum = 0.0\n",
    "neurons.spikes_received = 0.0\n",
    "\n",
    "# Spike inputs (one per input neuron)     times=[i*0.4 for i in range(n_input)]\n",
    "stim = SpikeGeneratorGroup(n_input, indices=range(n_input), times=([.1] * ms))\n",
    "\n",
    "# Input → Hidden connections\n",
    "syn_input = Synapses(stim, neurons[0:1], '''\n",
    "    w : 1\n",
    "    layer : 1\n",
    "''', on_pre='''\n",
    "    spikes_received += 1\n",
    "    sum += spike_timing(w, global_clock, layer, spikes_received, sum)\n",
    "    scheduled_time = ((sum/spikes_received) + layer) * ms \n",
    "''')\n",
    "syn_input.connect()\n",
    "\n",
    "# Output layer: hidden → output\n",
    "syn_output = Synapses(neurons[0], neurons[1], '''\n",
    "    w : 1\n",
    "    layer : 1\n",
    "''', on_pre='''\n",
    "    spikes_received += 1\n",
    "    sum += spike_timing(w, global_clock, layer, spikes_received, sum)\n",
    "    scheduled_time = ((sum/spikes_received) + layer) * ms \n",
    "   \n",
    "''')\n",
    "syn_output.connect()\n",
    "syn_output.w = weight # np.random.uniform(-0.90, .90, size=1) # [ 0.7116071 , -1.1385437 , -1.088651, 0.43341887, -1.4892002 , -1.3539809 ,0.28178445,  0.152175  , -0.54456943, -1.5054257 ,  0.12284008,  0.49124786, -0.41317764,  0.5724888 ,  0.4868003, 0.38319886,  0.31672755,  0.5698485, -0.7893439 , -0.4332046 ,  1.1470755, -0.619324  , -0.6091148 , -0.2407385, -0.02582   , -0.17720485,  0.3123896, -0.01638766,  0.39673412, -0.4153284 ]\n",
    "#np.random.uniform(0.10, .90, size=30)\n",
    "syn_output.layer = 1\n",
    "\n",
    "# Scheduled activation & clock update\n",
    "neurons.run_regularly('''\n",
    "    v = int(abs(t - scheduled_time) < 0.0005*ms) * 1.2\n",
    "                      \n",
    "    global_clock += 0.001\n",
    "''', dt=0.001*ms)\n",
    "\n",
    "# Monitors\n",
    "mon = StateMonitor(neurons, 'v', record=True, dt=0.001*ms)\n",
    "mon_sum = StateMonitor(neurons, 'sum', record=True)\n",
    "sp_mon = StateMonitor(neurons, 'spikes_received', record=True)\n",
    "sch_time = StateMonitor(neurons, 'scheduled_time', record=True)\n",
    "\n",
    "\n",
    "spikemon = SpikeMonitor(neurons)\n",
    "\n",
    "\n",
    "run(2.1*ms)\n",
    "\n",
    "# # Plot voltages\n",
    "figure(figsize=(10, 6))\n",
    "for i in range(n_total):  # All neurons\n",
    "    plot(mon.t/ms, mon.v[i], label=f'Neuron {i}')\n",
    "xlabel('Time (ms)')\n",
    "ylabel('Membrane potential')\n",
    "legend()\n",
    "title('SNN Spike Propagation Across All Layers')\n",
    "show()\n",
    "\n",
    "#plot(mon_sum.t/ms, mon_sum.sum[4])  # or any neuron index\n",
    "# print(mon_sum.sum[1])\n",
    "# print(sp_mon.spikes_received[1])\n",
    "# print(sch_time.scheduled_time[1])\n",
    "\n",
    "sp_1 = 0.0\n",
    "sp_2 = 0.0\n",
    "for i in range(n_total):\n",
    "    times = spikemon.spike_trains()[i]\n",
    "    if len(times) > 0:\n",
    "        formatted_times = [f\"{t/ms:.3f} ms\" for t in times]\n",
    "        print(f\"Neuron {i} spike times: {formatted_times}\")\n",
    "        if i == 0:\n",
    "            sp_1 = times/ms \n",
    "        else:\n",
    "            sp_2 = times/ms\n",
    "\n",
    "\n"
   ]
  },
  {
   "cell_type": "code",
   "execution_count": 98,
   "id": "e2e90d3e",
   "metadata": {},
   "outputs": [
    {
     "name": "stdout",
     "output_type": "stream",
     "text": [
      "Output spike time: 0.8999999998704264\n",
      "Cost: 8.39465555155096e-21\n",
      "Updated weight: 0.9542425094036542\n"
     ]
    }
   ],
   "source": [
    "import numpy as np\n",
    "\n",
    "# Your spike_timing function\n",
    "def spike_timing(w, global_clock, layer, sum, spikes_received): \n",
    "    x = global_clock % 1\n",
    "    if w >= 0:\n",
    "        return x ** (1 - w)\n",
    "    else:\n",
    "        return 1 - (1 - x) ** (1 + w)\n",
    "\n",
    "# --- Inputs ---\n",
    "global_clock = 0.1\n",
    "layer = 1\n",
    "sum_val = 0\n",
    "spikes_received = 1\n",
    "\n",
    "# Initial weight and target\n",
    "desired_output = [0.9]\n",
    "\n",
    "# --- Step 1: Forward Pass ---\n",
    "output_spike_time = spike_timing(weight, global_clock, layer, sum_val, spikes_received)\n",
    "print(\"Output spike time:\", output_spike_time)\n",
    "\n",
    "# --- Step 2: Cost ---\n",
    "def calc_cost(output, desired):\n",
    "    return 0.5 * ((output - desired[0]) ** 2)\n",
    "\n",
    "cost = calc_cost(output_spike_time, desired_output)\n",
    "print(\"Cost:\", cost)\n",
    "\n",
    "# --- Step 3: Numerical Gradient ---\n",
    "epsilon = 0.0001\n",
    "new_output = spike_timing(weight + epsilon, global_clock, layer, sum_val, spikes_received)\n",
    "grad_approx = (new_output - output_spike_time) / epsilon  # d(output)/d(w)\n",
    "\n",
    "# --- Step 4: Chain Rule ---\n",
    "dC_dy = output_spike_time - desired_output[0]  # dCost/dOutput\n",
    "dC_dw = dC_dy * grad_approx  # dCost/dWeight\n",
    "\n",
    "# --- Step 5: Update ---\n",
    "learning_rate = 0.1\n",
    "weight -= learning_rate * dC_dw\n",
    "print(\"Updated weight:\", weight)\n"
   ]
  }
 ],
 "metadata": {
  "kernelspec": {
   "display_name": "Python 3",
   "language": "python",
   "name": "python3"
  },
  "language_info": {
   "codemirror_mode": {
    "name": "ipython",
    "version": 3
   },
   "file_extension": ".py",
   "mimetype": "text/x-python",
   "name": "python",
   "nbconvert_exporter": "python",
   "pygments_lexer": "ipython3",
   "version": "3.11.9"
  }
 },
 "nbformat": 4,
 "nbformat_minor": 5
}
