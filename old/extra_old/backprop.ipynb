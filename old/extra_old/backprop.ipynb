{
 "cells": [
  {
   "cell_type": "code",
   "execution_count": null,
   "id": "7e05bb5e",
   "metadata": {},
   "outputs": [
    {
     "name": "stdout",
     "output_type": "stream",
     "text": [
      "Original: [5.1 3.5 1.4 0.2]\n",
      "Standardized: [0.22277778 0.62475    0.06866102 0.04258333]\n"
     ]
    }
   ],
   "source": [
    "from sklearn.datasets import load_iris\n",
    "import numpy as np\n",
    "  \n",
    "# Load the dataset\n",
    "iris = load_iris()\n",
    "X = iris['data']  # shape: (150, 4)\n",
    "y = iris['target']\n",
    "\n",
    "# Standardize features to [0.001, 0.999]\n",
    "X_min = X.min(axis=0)\n",
    "X_max = X.max(axis=0)\n",
    "\n",
    "X_std = (X - X_min) / (X_max - X_min)  # Scales to [0, 1]\n",
    "X_scaled = X_std * (0.999 - 0.001) + 0.001  # Scales to [0.001, 0.999]\n",
    "\n",
    "# Check one sample\n",
    "sample_index = 0\n",
    "print(\"Original:\", X[sample_index])\n",
    "print(\"Standardized:\", X_scaled[sample_index])\n"
   ]
  },
  {
   "cell_type": "code",
   "execution_count": 10,
   "id": "31aae16f",
   "metadata": {},
   "outputs": [
    {
     "name": "stdout",
     "output_type": "stream",
     "text": [
      "Input sample: [5.9 3.  5.1 1.8]\n",
      "Target class: 2\n"
     ]
    }
   ],
   "source": [
    "index = 149\n",
    "input_sample = X[index]     # shape: (4,) — 4 input features\n",
    "output_label = y[index]     # scalar class label: 0, 1, or 2\n",
    "\n",
    "print(\"Input sample:\", input_sample)\n",
    "print(\"Target class:\", output_label)\n",
    "\n",
    "\n",
    "for i in range(len(X)):\n",
    "    inputs = X[i]\n",
    "    label = y[i]\n",
    "    # use inputs and label as needed\n",
    "\n"
   ]
  },
  {
   "cell_type": "code",
   "execution_count": 40,
   "id": "e5b85b2a",
   "metadata": {},
   "outputs": [
    {
     "name": "stdout",
     "output_type": "stream",
     "text": [
      "[0.5, 0.5]\n"
     ]
    }
   ],
   "source": [
    "weights = [.5]*2\n",
    "sp_1 = 0.0\n",
    "sp_2 = 0.0\n",
    "sp_3 = 0.0\n",
    "last_spike = 0.0\n",
    "\n",
    "print(weights)\n"
   ]
  },
  {
   "cell_type": "code",
   "execution_count": 107,
   "id": "869b7444",
   "metadata": {},
   "outputs": [
    {
     "name": "stderr",
     "output_type": "stream",
     "text": [
      "WARNING    'i' is an internal variable of group 'synapses_30', but also exists in the run namespace with the value 2. The internal variable will be used. [brian2.groups.group.Group.resolve.resolution_conflict]\n",
      "WARNING    Came across an abstract code block that may not be well-defined: the outcome may depend on the order of execution. You can ignore this warning if you are sure that the order of operations does not matter. 3 lines of abstract code, first line is: 'spikes_received += 1 (in-place)'\n",
      " [brian2.codegen.generators.base]\n",
      "WARNING    Came across an abstract code block that may not be well-defined: the outcome may depend on the order of execution. You can ignore this warning if you are sure that the order of operations does not matter. 3 lines of abstract code, first line is: 'spikes_received += 1 (in-place)'\n",
      " [brian2.codegen.generators.base]\n"
     ]
    },
    {
     "name": "stdout",
     "output_type": "stream",
     "text": [
      "previous weights:  [0.867420000000003, -0.36922000000000144]\n"
     ]
    },
    {
     "data": {
      "image/png": "[encoded data removed]",
      "text/plain": [
       "<Figure size 1000x600 with 1 Axes>"
      ]
     },
     "metadata": {},
     "output_type": "display_data"
    },
    {
     "name": "stdout",
     "output_type": "stream",
     "text": [
      "0\n",
      "Neuron 0 spike times: ['0.101 ms']\n",
      "1\n",
      "Neuron 1 spike times: ['0.901 ms']\n",
      "2\n",
      "Neuron 2 spike times: ['1.754 ms']\n",
      "[1.754]\n"
     ]
    }
   ],
   "source": [
    "from brian2 import *\n",
    "import numpy as np\n",
    "\n",
    "start_scope()\n",
    "\n",
    "defaultclock.dt = 0.0001*ms  \n",
    "\n",
    "# Custom timing function\n",
    "@implementation('numpy', discard_units=True)\n",
    "@check_units(w=1, global_clock=1, layer=1, result=1, sum=1, spikes_received=1)\n",
    "def spike_timing(w, global_clock, layer, sum, spikes_received): \n",
    "    #print(global_clock)\n",
    "    x = global_clock % 1\n",
    "    if w >= 0:\n",
    "        return (x ** (1 - w)) \n",
    "    else:\n",
    "        return (1 - (1 - x) ** (1 + w)) \n",
    "    \n",
    "@implementation('numpy', discard_units=True)\n",
    "@check_units(layer=1, result=1, sum=1, spikes_received=1)\n",
    "def math1(layer, sum, spikes_received): \n",
    "    return (sum/spikes_received )+ layer\n",
    "\n",
    "input = [0.1, 0.9]\n",
    "n_input = 2 \n",
    "n_output = 1\n",
    "n_total = n_input + n_output\n",
    "\n",
    "# Full neuron group\n",
    "neurons = NeuronGroup(n_total, '''\n",
    "    v : 1\n",
    "    sum : 1\n",
    "    spikes_received : 1\n",
    "    scheduled_time : second\n",
    "    global_clock : 1\n",
    "''', threshold='v > 1', reset='v = 0', method='exact')\n",
    "\n",
    "neurons.v = 0\n",
    "neurons.scheduled_time = 1e9 * second\n",
    "neurons.global_clock = 0.0\n",
    "neurons.sum = 0.0\n",
    "neurons.spikes_received = 0.0\n",
    "\n",
    "# Spike inputs (one per input neuron)     times=[i*0.4 for i in range(n_input)]\n",
    "stim = SpikeGeneratorGroup(n_input, indices=[0, 1], times=[0.1*ms, 0.9*ms])\n",
    "\n",
    "\n",
    "# Input → Hidden connections\n",
    "syn_input = Synapses(stim, neurons[0:2], '''\n",
    "    w : 1\n",
    "    layer : 1\n",
    "''', on_pre='''\n",
    "    spikes_received += 1\n",
    "    sum += spike_timing(w, global_clock, layer, spikes_received, sum)\n",
    "    scheduled_time = ((sum/spikes_received) + layer) * ms \n",
    "''')\n",
    "syn_input.connect(j='i') \n",
    "\n",
    "\n",
    "syn_output = Synapses(neurons[0:2], neurons[2], '''\n",
    "    w : 1\n",
    "    layer : 1\n",
    "''', on_pre='''\n",
    "    spikes_received += 1\n",
    "    sum += spike_timing(w, global_clock, layer, spikes_received, sum)\n",
    "    scheduled_time = ((sum/spikes_received) + layer) * ms \n",
    "   \n",
    "''')\n",
    "syn_output.connect()\n",
    "\n",
    "syn_output.w =  weights # np.random.uniform(-0.90, .90, size=1) # [ 0.7116071 , -1.1385437 , -1.088651, 0.43341887, -1.4892002 , -1.3539809 ,0.28178445,  0.152175  , -0.54456943, -1.5054257 ,  0.12284008,  0.49124786, -0.41317764,  0.5724888 ,  0.4868003, 0.38319886,  0.31672755,  0.5698485, -0.7893439 , -0.4332046 ,  1.1470755, -0.619324  , -0.6091148 , -0.2407385, -0.02582   , -0.17720485,  0.3123896, -0.01638766,  0.39673412, -0.4153284 ]\n",
    "#np.random.uniform(0.10, .90, size=30)\n",
    "print(\"previous weights: \", weights)\n",
    "syn_output.layer = 1\n",
    "\n",
    "# Scheduled activation & clock update\n",
    "neurons.run_regularly('''\n",
    "    v = int(abs(t - scheduled_time) < 0.0005*ms) * 1.2\n",
    "                      \n",
    "    global_clock += 0.001\n",
    "''', dt=0.001*ms)\n",
    "\n",
    "# Monitors\n",
    "mon = StateMonitor(neurons, 'v', record=True, dt=0.001*ms)\n",
    "mon_sum = StateMonitor(neurons, 'sum', record=True)\n",
    "sp_mon = StateMonitor(neurons, 'spikes_received', record=True)\n",
    "sch_time = StateMonitor(neurons, 'scheduled_time', record=True)\n",
    "\n",
    "\n",
    "spikemon = SpikeMonitor(neurons)\n",
    "spikemon_input = SpikeMonitor(stim)\n",
    "\n",
    "\n",
    "run(2.5*ms)\n",
    "\n",
    "# # Plot voltages\n",
    "figure(figsize=(10, 6))\n",
    "for i in range(n_total):  # All neurons\n",
    "    plot(mon.t/ms, mon.v[i], label=f'Neuron {i}')\n",
    "xlabel('Time (ms)')\n",
    "ylabel('Membrane potential')\n",
    "legend()\n",
    "title('SNN Spike Propagation Across All Layers')\n",
    "show()\n",
    "\n",
    "#plot(mon_sum.t/ms, mon_sum.sum[4])  # or any neuron index\n",
    "# print(mon_sum.sum[1])\n",
    "# print(sp_mon.spikes_received[1])\n",
    "# print(sch_time.scheduled_time[1])\n",
    "\n",
    "\n",
    "for i in range(n_total):\n",
    "    print(i)\n",
    "    times = spikemon.spike_trains()[i]\n",
    "    if len(times) >= 0:\n",
    "        formatted_times = [f\"{t/ms:.3f} ms\" for t in times]\n",
    "        print(f\"Neuron {i} spike times: {formatted_times}\")\n",
    "        if i == 0:\n",
    "            #print(\"sp1 \", sp_1)\n",
    "            sp_1 = times/ms \n",
    "        elif i == 1:\n",
    "            #print(\"sp2: \", sp_2)\n",
    "            sp_2 = times/ms\n",
    "        elif i == 2:\n",
    "            #print(\"sp3 got here : \", sp_3)\n",
    "            sp_3 = times/ms\n",
    "print(sp_3)\n",
    "last_spike = sp_3\n",
    "# for i in range(n_input):\n",
    "#     print(f\"Stim neuron {i} spiked at:\", spikemon_input.spike_trains()[i])\n",
    "# plot(mon.t/ms, mon.v[0], label='Neuron 0')\n",
    "# plot(mon.t/ms, mon.v[1], label='Neuron 1')\n",
    "\n"
   ]
  },
  {
   "cell_type": "code",
   "execution_count": 38,
   "id": "fcb36b4d",
   "metadata": {},
   "outputs": [
    {
     "name": "stdout",
     "output_type": "stream",
     "text": [
      "inital weights:  [0.5, 0.5]\n",
      "Cost: [0.6441125]\n",
      "[1.0, 1.0]\n"
     ]
    }
   ],
   "source": [
    "import numpy as np\n",
    "\n",
    "def spike_timing(w, input):\n",
    "    x = input\n",
    "    if w >= 0:\n",
    "        return x ** (1 - w)\n",
    "    else:\n",
    "        return 1 - (1 - x) ** (1 + w)\n",
    "\n",
    "print(\"inital weights: \", weights)\n",
    "\n",
    "\n",
    "sum_val = 0\n",
    "desired_output = [0.5]\n",
    "epsilon = 1e-5\n",
    "learning_rate = 0.00001\n",
    "\n",
    "\n",
    "result = sp_3\n",
    "#print(result)\n",
    "input_1 = input[0]\n",
    "input_2 = input[1]\n",
    "weight_1 = weights[0]\n",
    "weight_2 = weights[1]\n",
    "in_and_w_1 = sp_1\n",
    "in_and_w_2 = sp_2\n",
    "\n",
    "inputs = [input_1, input_2]\n",
    "\n",
    "\n",
    "# cost function\n",
    "def calc_cost(output, desired):\n",
    "    return 0.5 * ((output - desired[0]) ** 2)\n",
    "\n",
    "cost = calc_cost(result, desired_output)\n",
    "print(\"Cost:\", cost)\n",
    "\n",
    "\n",
    "\n",
    "grads = []\n",
    "for i in range(len(weights)):\n",
    "    w_eps = weights.copy()\n",
    "    w_eps[i] += epsilon\n",
    "    outputs_eps = [in_and_w_1, in_and_w_2 ]\n",
    "    y_eps = sum(outputs_eps) / len(outputs_eps)\n",
    "    grad_approx = (y_eps - result) / epsilon  # dy/dw_i\n",
    "    dC_dy = result - desired_output           # dC/dy\n",
    "    dC_dw = dC_dy * grad_approx                     # dC/dw_i\n",
    "    grads.append(dC_dw)\n",
    "\n",
    "\n",
    "for i in range(len(weights)):\n",
    "    weights[i] -= learning_rate * grads[i]\n",
    "    weights[i] = np.clip(weights[i].item(), -1.0, 1.0)\n",
    "\n",
    "print(weights)\n",
    "\n",
    "# # finding the grad of all weights going into output neuron\n",
    "\n",
    "# # (change in C/ change in w = (wx(or input*weight) - t) * x) where t = target\n",
    "\n",
    "# dc_dw_1 = (in_and_w_1 - desired_output) * input_1\n",
    "#     # problem with above becuase desired oputput singluar not average of in_and_w  for all? \n",
    "# dc_dw_2 = (in_and_w_2 - desired_output) * input_2\n",
    "\n",
    "\n",
    "\n",
    "# print(dc_dw_1, dc_dw_2)\n",
    "\n",
    "# # Weight update\n",
    "# w1_new = weight_1 + (learning_rate * dc_dw_1)\n",
    "# w2_new = weight_2 + (learning_rate * dc_dw_2)\n",
    "\n",
    "# # Clip to limit weights\n",
    "# w1_new = np.clip(w1_new, -0.999999, 0.999999)\n",
    "# w2_new = np.clip(w2_new, -0.999999, 0.999999)\n",
    "\n",
    "# print(w1_new, w2_new)\n",
    "\n",
    "# # Save the updated weights\n",
    "# weights = [w1_new.item(), w2_new.item()]\n",
    "\n",
    "\n",
    "\n"
   ]
  },
  {
   "cell_type": "code",
   "execution_count": 106,
   "id": "e2e90d3e",
   "metadata": {},
   "outputs": [
    {
     "name": "stdout",
     "output_type": "stream",
     "text": [
      "result:  [1.698]\n",
      "Cost: [0.318402]\n",
      "[-0.0799] [0.0009]\n",
      "[0.86742] [-0.36922]\n"
     ]
    }
   ],
   "source": [
    "import numpy as np\n",
    "\n",
    "#weights = [0.5]*2\n",
    "# all values for input\n",
    "result = sp_3\n",
    "print(\"result: \", sp_3)\n",
    "#print(result)\n",
    "input_1 = input[0]\n",
    "input_2 = input[1]\n",
    "weight_1 = weights[0]\n",
    "weight_2 = weights[1]\n",
    "in_and_w_1 = sp_1\n",
    "in_and_w_2 = sp_2\n",
    "\n",
    " \n",
    "learning_rate = 0.1\n",
    "\n",
    "desired_output = [0.9]\n",
    "\n",
    "# cost function\n",
    "def calc_cost(output, desired):\n",
    "    return 0.5 * ((output - desired[0]) ** 2)\n",
    "\n",
    "cost = calc_cost(result, desired_output)\n",
    "print(\"Cost:\", cost)\n",
    "\n",
    "# finding the grad of all weights going into output neuron\n",
    "\n",
    "# (change in C/ change in w = (wx(or input*weight) - t) * x) where t = target\n",
    "\n",
    "dc_dw_1 = (in_and_w_1 - desired_output) * input_1\n",
    "    # problem with above becuase desired oputput singluar not average of in_and_w  for all? \n",
    "dc_dw_2 = (in_and_w_2 - desired_output) * input_2\n",
    "\n",
    "\n",
    "\n",
    "print(dc_dw_1, dc_dw_2)\n",
    "\n",
    "# Weight update\n",
    "w1_new = weight_1 - (learning_rate * dc_dw_1)\n",
    "w2_new = weight_2 - (learning_rate * dc_dw_2)\n",
    "\n",
    "# Clip to limit weights\n",
    "w1_new = np.clip(w1_new, -0.999999, 0.999999)\n",
    "w2_new = np.clip(w2_new, -0.999999, 0.999999)\n",
    "\n",
    "print(w1_new, w2_new)\n",
    "\n",
    "# Save the updated weights\n",
    "weights = [w1_new.item(), w2_new.item()]\n",
    "\n",
    "\n",
    "\n"
   ]
  },
  {
   "cell_type": "code",
   "execution_count": null,
   "id": "de9f39b0",
   "metadata": {},
   "outputs": [
    {
     "name": "stdout",
     "output_type": "stream",
     "text": [
      "[3, 2, 1]\n"
     ]
    }
   ],
   "source": [
    "array = [1,2,3]\n",
    "\n",
    "print(array[::-1])"
   ]
  },
  {
   "cell_type": "code",
   "execution_count": null,
   "id": "290ab82f",
   "metadata": {},
   "outputs": [],
   "source": [
    "\n",
    "# # --- Spike Timing Function ---\n",
    "# def spike_timing(w, global_clock, layer, sum_val, spikes_received): \n",
    "#     x = global_clock % 1\n",
    "#     if w >= 0:\n",
    "#         return x ** (1 - w)\n",
    "#     else:\n",
    "#         return 1 - (1 - x) ** (1 + w)\n",
    "\n",
    "# # --- Inputs ---\n",
    "# global_clock = 0.1\n",
    "# layer = 1\n",
    "# sum_val = 0\n",
    "# spikes_received = 2\n",
    "# desired_output = [0.1]\n",
    "\n",
    "# # --- Initial Weights (2 input synapses) ---\n",
    "\n",
    "\n",
    "# # --- Step 1: Forward Pass ---\n",
    "# # Compute spike timings from each input neuron\n",
    "# spike_times = [spike_timing(w, global_clock, layer, sum_val, spikes_received) for w in weights]\n",
    "\n",
    "# # Combine them (e.g., average)\n",
    "# output_spike_time = sum(spike_times) / len(spike_times)\n",
    "# print(\"Output spike time:\", output_spike_time)\n",
    "\n",
    "# # --- Step 2: Cost ---\n",
    "# def calc_cost(output, desired):\n",
    "#     return 0.5 * ((output - desired[0]) ** 2)\n",
    "\n",
    "# cost = calc_cost(output_spike_time, desired_output)\n",
    "# print(\"Cost:\", cost)\n",
    "\n",
    "# # --- Step 3: Numerical Gradients ---\n",
    "# epsilon = 0.0001\n",
    "# grad_approx = np.zeros_like(weights)\n",
    "\n",
    "# for i in range(len(weights)):\n",
    "#     # Perturb one weight at a time\n",
    "#     weights_perturbed = weights.copy()\n",
    "#     weights_perturbed[i] += epsilon\n",
    "\n",
    "#     # Recalculate spike timings and output\n",
    "#     spike_times_perturbed = [spike_timing(w, global_clock, layer, sum_val, spikes_received) for w in weights_perturbed]\n",
    "#     new_output = sum(spike_times_perturbed) / len(spike_times_perturbed)\n",
    "\n",
    "#     # Estimate partial derivative: d(output)/d(weight_i)\n",
    "#     grad_approx[i] = (new_output - output_spike_time) / epsilon\n",
    "\n",
    "# # --- Step 4: Chain Rule ---\n",
    "# dC_dy = output_spike_time - desired_output[0]\n",
    "# dC_dw = dC_dy * grad_approx  # vector of gradients\n",
    "\n",
    "# # --- Step 5: Update Weights ---\n",
    "# learning_rate = 0.1\n",
    "# weights -= learning_rate * dC_dw\n",
    "# print(\"Updated weights:\", weights)\n"
   ]
  },
  {
   "cell_type": "code",
   "execution_count": 2,
   "id": "1f814bd3",
   "metadata": {},
   "outputs": [],
   "source": [
    "# Custom timing function\n",
    "@implementation('numpy', discard_units=True)\n",
    "@check_units(w=1, global_clock=1, layer=1, result=1, sum=1, spikes_received=1)\n",
    "def spike_timing(w, global_clock, layer, sum, spikes_received): \n",
    "    #print(global_clock)\n",
    "    x = global_clock % 1\n",
    "    if w >= 0:\n",
    "        return (x ** (1 - w)) \n",
    "    else:\n",
    "        return (1 - (1 - x) ** (1 + w)) \n",
    "    \n",
    "@implementation('numpy', discard_units=True)\n",
    "@check_units(layer=1, result=1, sum=1, spikes_received=1)\n",
    "def math1(layer, sum, spikes_received): \n",
    "    return (sum/spikes_received )+ layer\n"
   ]
  },
  {
   "cell_type": "code",
   "execution_count": 6,
   "id": "77e49ea3",
   "metadata": {},
   "outputs": [
    {
     "name": "stderr",
     "output_type": "stream",
     "text": [
      "WARNING    The object 'synapses_2' is getting deleted, but was never included in a network. This probably means that you did not store the object reference in a variable, or that the variable was not used to construct the network.\n",
      "The object was created here (most recent call only):\n",
      "  File 'C:\\Users\\irtho\\AppData\\Local\\Temp\\ipykernel_29436\\304086720.py', line 48, in create_2_layer_SNN\n",
      "    syn_input = Synapses(stim, neurons[0:n_input], ''' [brian2.core.base.unused_brian_object]\n",
      "WARNING    The object 'synapses_3' is getting deleted, but was never included in a network. This probably means that you did not store the object reference in a variable, or that the variable was not used to construct the network.\n",
      "The object was created here (most recent call only):\n",
      "  File 'C:\\Users\\irtho\\AppData\\Local\\Temp\\ipykernel_29436\\304086720.py', line 60, in create_2_layer_SNN\n",
      "    syn_output = Synapses(neurons[0:n_input], neurons[n_input:], ''' [brian2.core.base.unused_brian_object]\n"
     ]
    },
    {
     "data": {
      "image/png": "[encoded data removed]",
      "text/plain": [
       "<Figure size 1000x600 with 1 Axes>"
      ]
     },
     "metadata": {},
     "output_type": "display_data"
    },
    {
     "name": "stdout",
     "output_type": "stream",
     "text": [
      "0\n",
      "Neuron 0 spike times: []\n",
      "1\n",
      "Neuron 1 spike times: []\n",
      "2\n",
      "Neuron 2 spike times: []\n"
     ]
    }
   ],
   "source": [
    "input_spike_times = [(0, 0.1), (1, 0.9)]\n",
    "snn = create_2_layer_SNN(input_spike_times)\n",
    "run_current_SNN(snn)\n"
   ]
  },
  {
   "cell_type": "code",
   "execution_count": 7,
   "id": "e8e55f14",
   "metadata": {},
   "outputs": [],
   "source": [
    "from brian2 import *\n",
    "\n",
    "defaultclock.dt = 0.0001*ms\n",
    "\n",
    "@implementation('numpy', discard_units=True)\n",
    "@check_units(w=1, global_clock=1, layer=1, result=1, sum=1, spikes_received=1)\n",
    "def spike_timing(w, global_clock, layer, sum, spikes_received): \n",
    "    x = global_clock % 1\n",
    "    return (x ** (1 - w)) if w >= 0 else (1 - (1 - x) ** (1 + w)) \n",
    "\n",
    "def create_snn(n_input=2, n_output=1):\n",
    "    start_scope()\n",
    "\n",
    "    stim = SpikeGeneratorGroup(n_input, indices=[], times=[]*ms)  # Placeholder\n",
    "\n",
    "    n_total = n_input + n_output\n",
    "    neurons = NeuronGroup(n_total, '''\n",
    "        v : 1\n",
    "        sum : 1\n",
    "        spikes_received : 1\n",
    "        scheduled_time : second\n",
    "        global_clock : 1\n",
    "    ''', threshold='v > 1', reset='v = 0', method='exact')\n",
    "\n",
    "    neurons.v = 0\n",
    "    neurons.scheduled_time = 1e9 * second\n",
    "    neurons.global_clock = 0.0\n",
    "    neurons.sum = 0.0\n",
    "    neurons.spikes_received = 0.0\n",
    "\n",
    "    syn_input = Synapses(stim, neurons[:n_input], '''\n",
    "        w : 1\n",
    "        layer : 1\n",
    "    ''', on_pre='''\n",
    "        spikes_received += 1\n",
    "        sum += spike_timing(w, global_clock, layer, sum, spikes_received)\n",
    "        scheduled_time = ((sum/spikes_received) + layer) * ms \n",
    "    ''')\n",
    "    syn_input.connect(j='i')\n",
    "    syn_input.w = 1.0\n",
    "    syn_input.layer = 0\n",
    "\n",
    "    syn_output = Synapses(neurons[:n_input], neurons[n_input:], '''\n",
    "        w : 1\n",
    "        layer : 1\n",
    "    ''', on_pre='''\n",
    "        spikes_received += 1\n",
    "        sum += spike_timing(w, global_clock, layer, sum, spikes_received)\n",
    "        scheduled_time = ((sum/spikes_received) + layer) * ms \n",
    "    ''')\n",
    "    syn_output.connect()\n",
    "    syn_output.w = 0.5\n",
    "    syn_output.layer = 1\n",
    "\n",
    "    neurons.run_regularly('''\n",
    "        v = int(abs(t - scheduled_time) < 0.0005*ms) * 1.2\n",
    "        global_clock += 0.001\n",
    "    ''', dt=0.001*ms)\n",
    "\n",
    "    monitors = {\n",
    "        'v': StateMonitor(neurons, 'v', record=True, dt=0.001*ms),\n",
    "        'spikes': SpikeMonitor(neurons),\n",
    "        'stim_spikes': SpikeMonitor(stim),\n",
    "    }\n",
    "\n",
    "    return stim, neurons, syn_input, syn_output, monitors\n"
   ]
  },
  {
   "cell_type": "code",
   "execution_count": 8,
   "id": "4c3c1089",
   "metadata": {},
   "outputs": [],
   "source": [
    "def run_snn(stim, syn_output, monitors, input_spike_times, new_weights=None, runtime=3*ms):\n",
    "    indices, times = zip(*input_spike_times)\n",
    "    stim.set_spikes(indices, [t*ms for t in times])\n",
    "\n",
    "    if new_weights is not None:\n",
    "        syn_output.w = new_weights\n",
    "\n",
    "    run(runtime)\n",
    "\n",
    "    for i, spikes in monitors['spikes'].spike_trains().items():\n",
    "        print(f\"Neuron {i} spikes at: {[round(t/ms, 3) for t in spikes]} ms\")\n",
    "\n",
    "    # Optional plot\n",
    "    figure()\n",
    "    for i in range(len(monitors['v'].v)):\n",
    "        plot(monitors['v'].t/ms, monitors['v'].v[i], label=f'Neuron {i}')\n",
    "    xlabel('Time (ms)')\n",
    "    ylabel('Membrane potential')\n",
    "    legend()\n",
    "    show()\n"
   ]
  },
  {
   "cell_type": "code",
   "execution_count": 9,
   "id": "a1794429",
   "metadata": {},
   "outputs": [
    {
     "name": "stderr",
     "output_type": "stream",
     "text": [
      "WARNING    Came across an abstract code block that may not be well-defined: the outcome may depend on the order of execution. You can ignore this warning if you are sure that the order of operations does not matter. 3 lines of abstract code, first line is: 'spikes_received += 1 (in-place)'\n",
      " [brian2.codegen.generators.base]\n",
      "INFO       Failed to vectorise code, falling back on Python loop: note that this will be very slow! Switch to another code generation target for best performance (e.g. cython). First line is: spikes_received += 1 (in-place) [brian2.codegen.generators.numpy_generator]\n",
      "WARNING    Came across an abstract code block that may not be well-defined: the outcome may depend on the order of execution. You can ignore this warning if you are sure that the order of operations does not matter. 3 lines of abstract code, first line is: 'spikes_received += 1 (in-place)'\n",
      " [brian2.codegen.generators.base]\n"
     ]
    },
    {
     "name": "stdout",
     "output_type": "stream",
     "text": [
      "Neuron 0 spikes at: [] ms\n",
      "Neuron 1 spikes at: [] ms\n",
      "Neuron 2 spikes at: [] ms\n"
     ]
    },
    {
     "data": {
      "image/png": "[encoded data removed]",
      "text/plain": [
       "<Figure size 640x480 with 1 Axes>"
      ]
     },
     "metadata": {},
     "output_type": "display_data"
    },
    {
     "name": "stderr",
     "output_type": "stream",
     "text": [
      "WARNING    The SpikeGeneratorGroup contains spike times earlier than the start time of the current run (t = 5. ms), these spikes will be ignored. [brian2.input.spikegeneratorgroup.ignored_spikes]\n",
      "WARNING    Came across an abstract code block that may not be well-defined: the outcome may depend on the order of execution. You can ignore this warning if you are sure that the order of operations does not matter. 3 lines of abstract code, first line is: 'spikes_received += 1 (in-place)'\n",
      " [brian2.codegen.generators.base]\n",
      "WARNING    Came across an abstract code block that may not be well-defined: the outcome may depend on the order of execution. You can ignore this warning if you are sure that the order of operations does not matter. 3 lines of abstract code, first line is: 'spikes_received += 1 (in-place)'\n",
      " [brian2.codegen.generators.base]\n"
     ]
    },
    {
     "name": "stdout",
     "output_type": "stream",
     "text": [
      "Neuron 0 spikes at: [] ms\n",
      "Neuron 1 spikes at: [] ms\n",
      "Neuron 2 spikes at: [] ms\n"
     ]
    },
    {
     "data": {
      "image/png": "[encoded data removed]",
      "text/plain": [
       "<Figure size 640x480 with 1 Axes>"
      ]
     },
     "metadata": {},
     "output_type": "display_data"
    }
   ],
   "source": [
    "stim, neurons, syn_input, syn_output, monitors = create_snn()\n",
    "\n",
    "# First run\n",
    "run_snn(\n",
    "    stim, syn_output, monitors,\n",
    "    input_spike_times=[(0, 0.1), (1, 0.9)],\n",
    "    new_weights=[0.6],  # try varying this\n",
    "    runtime=5*ms\n",
    ")\n",
    "\n",
    "# Second run with new input\n",
    "run_snn(\n",
    "    stim, syn_output, monitors,\n",
    "    input_spike_times=[(0, 0.2), (1, 0.3)],\n",
    "    new_weights=[-0.4],\n",
    "    runtime=5*ms\n",
    ")\n"
   ]
  }
 ],
 "metadata": {
  "kernelspec": {
   "display_name": "Python 3",
   "language": "python",
   "name": "python3"
  },
  "language_info": {
   "codemirror_mode": {
    "name": "ipython",
    "version": 3
   },
   "file_extension": ".py",
   "mimetype": "text/x-python",
   "name": "python",
   "nbconvert_exporter": "python",
   "pygments_lexer": "ipython3",
   "version": "3.11.9"
  }
 },
 "nbformat": 4,
 "nbformat_minor": 5
}
